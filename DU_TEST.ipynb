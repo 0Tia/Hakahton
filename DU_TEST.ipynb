{
  "nbformat": 4,
  "nbformat_minor": 0,
  "metadata": {
    "kernelspec": {
      "display_name": "Python 3",
      "language": "python",
      "name": "python3"
    },
    "language_info": {
      "codemirror_mode": {
        "name": "ipython",
        "version": 3
      },
      "file_extension": ".py",
      "mimetype": "text/x-python",
      "name": "python",
      "nbconvert_exporter": "python",
      "pygments_lexer": "ipython3",
      "version": "3.8.3"
    },
    "colab": {
      "name": "DU_TEST.ipynb",
      "provenance": [],
      "collapsed_sections": []
    }
  },
  "cells": [
    {
      "cell_type": "markdown",
      "metadata": {
        "id": "8OY5IBM8hdLi"
      },
      "source": [
        "# Import"
      ]
    },
    {
      "cell_type": "code",
      "metadata": {
        "id": "A0QWW-75OC5h"
      },
      "source": [
        "import pandas as pd\n",
        "import numpy as np\n",
        "import math\n",
        "from sklearn import preprocessing\n",
        "from dateutil import parser\n",
        "import warnings\n",
        "from sklearn.preprocessing import OneHotEncoder\n",
        "from sklearn.decomposition import PCA\n",
        "from sklearn.model_selection import train_test_split\n",
        "from sklearn.discriminant_analysis import LinearDiscriminantAnalysis\n",
        "from sklearn.model_selection import GridSearchCV\n",
        "from sklearn.metrics import classification_report, confusion_matrix, accuracy_score\n",
        "from sklearn.ensemble import RandomForestClassifier\n",
        "from sklearn.ensemble import GradientBoostingClassifier\n",
        "from sklearn.svm import SVC\n",
        "from sklearn.neighbors import KNeighborsClassifier"
      ],
      "execution_count": 1,
      "outputs": []
    },
    {
      "cell_type": "markdown",
      "metadata": {
        "id": "uOTPflzXhjeL"
      },
      "source": [
        "# Load Dataset"
      ]
    },
    {
      "cell_type": "code",
      "metadata": {
        "id": "k23W83b0OC5v"
      },
      "source": [
        "#Original data set\n",
        "data_original_train = pd.read_csv(\"train_auto.csv\", index_col=None)\n",
        "data_original_test = pd.read_csv(\"test_auto.csv\", index_col=None)\n",
        "\n",
        "pd.options.display.max_columns = 50\n",
        "pd.set_option('display.max_rows', 50)\n",
        "\n",
        "#Extract the labels of the train dataset\n",
        "# y = data_original_train['label'].to_numpy()"
      ],
      "execution_count": 2,
      "outputs": []
    },
    {
      "cell_type": "code",
      "metadata": {
        "id": "eKvDkfyXOC5x",
        "outputId": "af7d67b0-47f9-4be4-a656-f9fcce13a443"
      },
      "source": [
        "data_original_train.head()"
      ],
      "execution_count": null,
      "outputs": [
        {
          "data": {
            "text/html": [
              "<div>\n",
              "<style scoped>\n",
              "    .dataframe tbody tr th:only-of-type {\n",
              "        vertical-align: middle;\n",
              "    }\n",
              "\n",
              "    .dataframe tbody tr th {\n",
              "        vertical-align: top;\n",
              "    }\n",
              "\n",
              "    .dataframe thead th {\n",
              "        text-align: right;\n",
              "    }\n",
              "</style>\n",
              "<table border=\"1\" class=\"dataframe\">\n",
              "  <thead>\n",
              "    <tr style=\"text-align: right;\">\n",
              "      <th></th>\n",
              "      <th>INDEX</th>\n",
              "      <th>TARGET_FLAG</th>\n",
              "      <th>TARGET_AMT</th>\n",
              "      <th>KIDSDRIV</th>\n",
              "      <th>AGE</th>\n",
              "      <th>HOMEKIDS</th>\n",
              "      <th>YOJ</th>\n",
              "      <th>INCOME</th>\n",
              "      <th>PARENT1</th>\n",
              "      <th>HOME_VAL</th>\n",
              "      <th>MSTATUS</th>\n",
              "      <th>SEX</th>\n",
              "      <th>EDUCATION</th>\n",
              "      <th>JOB</th>\n",
              "      <th>TRAVTIME</th>\n",
              "      <th>CAR_USE</th>\n",
              "      <th>BLUEBOOK</th>\n",
              "      <th>TIF</th>\n",
              "      <th>CAR_TYPE</th>\n",
              "      <th>RED_CAR</th>\n",
              "      <th>OLDCLAIM</th>\n",
              "      <th>CLM_FREQ</th>\n",
              "      <th>REVOKED</th>\n",
              "      <th>MVR_PTS</th>\n",
              "      <th>CAR_AGE</th>\n",
              "      <th>URBANICITY</th>\n",
              "    </tr>\n",
              "  </thead>\n",
              "  <tbody>\n",
              "    <tr>\n",
              "      <th>0</th>\n",
              "      <td>1</td>\n",
              "      <td>0</td>\n",
              "      <td>0.0</td>\n",
              "      <td>0</td>\n",
              "      <td>60.0</td>\n",
              "      <td>0</td>\n",
              "      <td>11.0</td>\n",
              "      <td>$67,349</td>\n",
              "      <td>No</td>\n",
              "      <td>$0</td>\n",
              "      <td>z_No</td>\n",
              "      <td>M</td>\n",
              "      <td>PhD</td>\n",
              "      <td>Professional</td>\n",
              "      <td>14</td>\n",
              "      <td>Private</td>\n",
              "      <td>$14,230</td>\n",
              "      <td>11</td>\n",
              "      <td>Minivan</td>\n",
              "      <td>yes</td>\n",
              "      <td>$4,461</td>\n",
              "      <td>2</td>\n",
              "      <td>No</td>\n",
              "      <td>3</td>\n",
              "      <td>18.0</td>\n",
              "      <td>Highly Urban/ Urban</td>\n",
              "    </tr>\n",
              "    <tr>\n",
              "      <th>1</th>\n",
              "      <td>2</td>\n",
              "      <td>0</td>\n",
              "      <td>0.0</td>\n",
              "      <td>0</td>\n",
              "      <td>43.0</td>\n",
              "      <td>0</td>\n",
              "      <td>11.0</td>\n",
              "      <td>$91,449</td>\n",
              "      <td>No</td>\n",
              "      <td>$257,252</td>\n",
              "      <td>z_No</td>\n",
              "      <td>M</td>\n",
              "      <td>z_High School</td>\n",
              "      <td>z_Blue Collar</td>\n",
              "      <td>22</td>\n",
              "      <td>Commercial</td>\n",
              "      <td>$14,940</td>\n",
              "      <td>1</td>\n",
              "      <td>Minivan</td>\n",
              "      <td>yes</td>\n",
              "      <td>$0</td>\n",
              "      <td>0</td>\n",
              "      <td>No</td>\n",
              "      <td>0</td>\n",
              "      <td>1.0</td>\n",
              "      <td>Highly Urban/ Urban</td>\n",
              "    </tr>\n",
              "    <tr>\n",
              "      <th>2</th>\n",
              "      <td>4</td>\n",
              "      <td>0</td>\n",
              "      <td>0.0</td>\n",
              "      <td>0</td>\n",
              "      <td>35.0</td>\n",
              "      <td>1</td>\n",
              "      <td>10.0</td>\n",
              "      <td>$16,039</td>\n",
              "      <td>No</td>\n",
              "      <td>$124,191</td>\n",
              "      <td>Yes</td>\n",
              "      <td>z_F</td>\n",
              "      <td>z_High School</td>\n",
              "      <td>Clerical</td>\n",
              "      <td>5</td>\n",
              "      <td>Private</td>\n",
              "      <td>$4,010</td>\n",
              "      <td>4</td>\n",
              "      <td>z_SUV</td>\n",
              "      <td>no</td>\n",
              "      <td>$38,690</td>\n",
              "      <td>2</td>\n",
              "      <td>No</td>\n",
              "      <td>3</td>\n",
              "      <td>10.0</td>\n",
              "      <td>Highly Urban/ Urban</td>\n",
              "    </tr>\n",
              "    <tr>\n",
              "      <th>3</th>\n",
              "      <td>5</td>\n",
              "      <td>0</td>\n",
              "      <td>0.0</td>\n",
              "      <td>0</td>\n",
              "      <td>51.0</td>\n",
              "      <td>0</td>\n",
              "      <td>14.0</td>\n",
              "      <td>NaN</td>\n",
              "      <td>No</td>\n",
              "      <td>$306,251</td>\n",
              "      <td>Yes</td>\n",
              "      <td>M</td>\n",
              "      <td>&lt;High School</td>\n",
              "      <td>z_Blue Collar</td>\n",
              "      <td>32</td>\n",
              "      <td>Private</td>\n",
              "      <td>$15,440</td>\n",
              "      <td>7</td>\n",
              "      <td>Minivan</td>\n",
              "      <td>yes</td>\n",
              "      <td>$0</td>\n",
              "      <td>0</td>\n",
              "      <td>No</td>\n",
              "      <td>0</td>\n",
              "      <td>6.0</td>\n",
              "      <td>Highly Urban/ Urban</td>\n",
              "    </tr>\n",
              "    <tr>\n",
              "      <th>4</th>\n",
              "      <td>6</td>\n",
              "      <td>0</td>\n",
              "      <td>0.0</td>\n",
              "      <td>0</td>\n",
              "      <td>50.0</td>\n",
              "      <td>0</td>\n",
              "      <td>NaN</td>\n",
              "      <td>$114,986</td>\n",
              "      <td>No</td>\n",
              "      <td>$243,925</td>\n",
              "      <td>Yes</td>\n",
              "      <td>z_F</td>\n",
              "      <td>PhD</td>\n",
              "      <td>Doctor</td>\n",
              "      <td>36</td>\n",
              "      <td>Private</td>\n",
              "      <td>$18,000</td>\n",
              "      <td>1</td>\n",
              "      <td>z_SUV</td>\n",
              "      <td>no</td>\n",
              "      <td>$19,217</td>\n",
              "      <td>2</td>\n",
              "      <td>Yes</td>\n",
              "      <td>3</td>\n",
              "      <td>17.0</td>\n",
              "      <td>Highly Urban/ Urban</td>\n",
              "    </tr>\n",
              "  </tbody>\n",
              "</table>\n",
              "</div>"
            ],
            "text/plain": [
              "   INDEX  TARGET_FLAG  TARGET_AMT  KIDSDRIV   AGE  HOMEKIDS   YOJ     INCOME  \\\n",
              "0      1            0         0.0         0  60.0         0  11.0   $67,349    \n",
              "1      2            0         0.0         0  43.0         0  11.0   $91,449    \n",
              "2      4            0         0.0         0  35.0         1  10.0   $16,039    \n",
              "3      5            0         0.0         0  51.0         0  14.0        NaN   \n",
              "4      6            0         0.0         0  50.0         0   NaN  $114,986    \n",
              "\n",
              "  PARENT1   HOME_VAL MSTATUS  SEX      EDUCATION            JOB  TRAVTIME  \\\n",
              "0      No        $0     z_No    M            PhD   Professional        14   \n",
              "1      No  $257,252     z_No    M  z_High School  z_Blue Collar        22   \n",
              "2      No  $124,191      Yes  z_F  z_High School       Clerical         5   \n",
              "3      No  $306,251      Yes    M   <High School  z_Blue Collar        32   \n",
              "4      No  $243,925      Yes  z_F            PhD         Doctor        36   \n",
              "\n",
              "      CAR_USE  BLUEBOOK  TIF CAR_TYPE RED_CAR  OLDCLAIM  CLM_FREQ REVOKED  \\\n",
              "0     Private  $14,230    11  Minivan     yes   $4,461          2      No   \n",
              "1  Commercial  $14,940     1  Minivan     yes       $0          0      No   \n",
              "2     Private   $4,010     4    z_SUV      no  $38,690          2      No   \n",
              "3     Private  $15,440     7  Minivan     yes       $0          0      No   \n",
              "4     Private  $18,000     1    z_SUV      no  $19,217          2     Yes   \n",
              "\n",
              "   MVR_PTS  CAR_AGE           URBANICITY  \n",
              "0        3     18.0  Highly Urban/ Urban  \n",
              "1        0      1.0  Highly Urban/ Urban  \n",
              "2        3     10.0  Highly Urban/ Urban  \n",
              "3        0      6.0  Highly Urban/ Urban  \n",
              "4        3     17.0  Highly Urban/ Urban  "
            ]
          },
          "execution_count": 39,
          "metadata": {},
          "output_type": "execute_result"
        }
      ]
    },
    {
      "cell_type": "code",
      "metadata": {
        "id": "uPei9MDYOC51",
        "outputId": "bdc5068b-a52b-4738-d479-a3ddc61ec685"
      },
      "source": [
        "data_original_train.shape"
      ],
      "execution_count": null,
      "outputs": [
        {
          "data": {
            "text/plain": [
              "(8161, 26)"
            ]
          },
          "execution_count": 18,
          "metadata": {},
          "output_type": "execute_result"
        }
      ]
    },
    {
      "cell_type": "code",
      "metadata": {
        "colab": {
          "base_uri": "https://localhost:8080/"
        },
        "id": "euzVlXYAiqrJ",
        "outputId": "44ad87fa-0f81-4f40-deba-2d8e7db9bd89"
      },
      "source": [
        "data_original_test.shape"
      ],
      "execution_count": 38,
      "outputs": [
        {
          "output_type": "execute_result",
          "data": {
            "text/plain": [
              "(2141, 26)"
            ]
          },
          "metadata": {},
          "execution_count": 38
        }
      ]
    },
    {
      "cell_type": "code",
      "metadata": {
        "id": "-arPbA6OOC53"
      },
      "source": [
        "##### categorical data:\n",
        "# KIDSDRIV(01234), \n",
        "# HOMEKIDS (012345)\n",
        "# PARENT1 (yes no)\n",
        "# MSTATUS（yes no）\n",
        "# SEX（z_F, M）\n",
        "# EDUCATION(z_High School:2330; Bachelors:2242; Masters:1658; <High School:1203; PhD:728)\n",
        "# JOB (z_Blue Collar:1825; Clerical: 1271; Professional:1117; Manager: 988; Lawyer: 835; Student:712; Home Maker:641; Doctor :46)\n",
        "# CAR_USE（private/commercial）\n",
        "# CAR_TYPE (z_SUV:2294; Minivan:2145; Pickup:1389; Sports Car: 907; Van:750; Panel Truck:676)\n",
        "# RED_CAR（yes/no）\n",
        "# CLM_FREQ (0-5)\n",
        "# REVOKED (yes/no)\n",
        "# URBANICITY (urban/ rural)\n",
        "\n",
        "\n",
        "###### numerical data:\n",
        "# TARGET_AMT（6008 of 0, otherwise all big numbers）； \n",
        "# AGE 46- 80\n",
        "# YOJ (0-23)\n",
        "# INCOME \n",
        "# HOME_VAL（2000 of 0）\n",
        "# TRAVTIME（integer）\n",
        "# BLUEBOOK\n",
        "# TIF （1-25）\n",
        "# OLDCLAIM (5009 of 0)\n",
        "# MVR_PTS (integer; 0-13)\n",
        "# CAR_AGE (-3 ~28)"
      ],
      "execution_count": null,
      "outputs": []
    },
    {
      "cell_type": "code",
      "metadata": {
        "colab": {
          "base_uri": "https://localhost:8080/"
        },
        "id": "QV2RlFKcOC6C",
        "outputId": "3a388acd-5e30-498e-f778-f57ff69f7141"
      },
      "source": [
        "data_original_train.adtypes"
      ],
      "execution_count": 37,
      "outputs": [
        {
          "output_type": "execute_result",
          "data": {
            "text/plain": [
              "INDEX            int64\n",
              "TARGET_FLAG      int64\n",
              "TARGET_AMT     float64\n",
              "KIDSDRIV         int64\n",
              "AGE            float64\n",
              "HOMEKIDS         int64\n",
              "YOJ            float64\n",
              "INCOME         float64\n",
              "PARENT1         object\n",
              "HOME_VAL        object\n",
              "MSTATUS         object\n",
              "SEX             object\n",
              "EDUCATION       object\n",
              "JOB             object\n",
              "TRAVTIME         int64\n",
              "CAR_USE         object\n",
              "BLUEBOOK        object\n",
              "TIF              int64\n",
              "CAR_TYPE        object\n",
              "RED_CAR         object\n",
              "OLDCLAIM        object\n",
              "CLM_FREQ         int64\n",
              "REVOKED         object\n",
              "MVR_PTS          int64\n",
              "CAR_AGE        float64\n",
              "URBANICITY      object\n",
              "dtype: object"
            ]
          },
          "metadata": {},
          "execution_count": 37
        }
      ]
    },
    {
      "cell_type": "markdown",
      "metadata": {
        "id": "3CUpb99zixE_"
      },
      "source": [
        "# Clean Datas"
      ]
    },
    {
      "cell_type": "markdown",
      "metadata": {
        "id": "FVHUWcxgi1rE"
      },
      "source": [
        "### Convert 'fake string' columns to float"
      ]
    },
    {
      "cell_type": "markdown",
      "metadata": {
        "id": "vMTY-LCxi7q9"
      },
      "source": [
        "We removed the '$' symbol, replaced ',' by '.' and set the 'nan' to real np.nan so all the datas could be interpreted and converted to float"
      ]
    },
    {
      "cell_type": "code",
      "metadata": {
        "id": "yQwJ5r9SsB9U"
      },
      "source": [
        "for field in ['OLDCLAIM', 'HOME_VAL', 'BLUEBOOK', 'INCOME']:\n",
        "    data_original_train[field] = data_original_train[field].astype(str).apply(lambda x : x.replace(',', '.')[1:]).replace('an', np.nan).astype(float)"
      ],
      "execution_count": 87,
      "outputs": []
    },
    {
      "cell_type": "code",
      "metadata": {
        "id": "l5XvjkxF2Xt-"
      },
      "source": [
        "for field in ['OLDCLAIM', 'HOME_VAL', 'BLUEBOOK', 'INCOME']:\n",
        "    data_original_test[field] = data_original_test[field].astype(str).apply(lambda x : x.replace(',', '.')[1:]).replace('an', np.nan).astype(float)"
      ],
      "execution_count": 88,
      "outputs": []
    },
    {
      "cell_type": "markdown",
      "metadata": {
        "id": "m_2As2g7jSBo"
      },
      "source": [
        "### Encode string columns using one-hot-encoder"
      ]
    },
    {
      "cell_type": "markdown",
      "metadata": {
        "id": "2Ywy_CT8jXGe"
      },
      "source": [
        "This can be costly in term of memory, we will frist try to encode every categorical columns. If we face memory issue when running our Classification algorithm we will drop some columns"
      ]
    },
    {
      "cell_type": "code",
      "metadata": {
        "id": "sdjSfpDrmVeG"
      },
      "source": [
        "from sklearn.preprocessing import OneHotEncoder\n",
        "enc = OneHotEncoder(handle_unknown='ignore', sparse = False)"
      ],
      "execution_count": 48,
      "outputs": []
    },
    {
      "cell_type": "code",
      "metadata": {
        "id": "HywngabspIyD"
      },
      "source": [
        "data_original_train = pd.get_dummies(data_original_train)"
      ],
      "execution_count": 55,
      "outputs": []
    },
    {
      "cell_type": "code",
      "metadata": {
        "id": "SDP_emQ42gA4"
      },
      "source": [
        "data_original_test = pd.get_dummies(data_original_test)"
      ],
      "execution_count": 89,
      "outputs": []
    },
    {
      "cell_type": "markdown",
      "metadata": {
        "id": "MpyZC8O5uHnT"
      },
      "source": [
        "### Handling missing values"
      ]
    },
    {
      "cell_type": "markdown",
      "metadata": {
        "id": "S1pIylN2uKWb"
      },
      "source": [
        "As sklearn implementation of Random Forest and other ML algorithms doesn't take automatically take care of missing values, we will have to handle missing values before implementing any ML algorithm."
      ]
    },
    {
      "cell_type": "code",
      "metadata": {
        "colab": {
          "base_uri": "https://localhost:8080/"
        },
        "id": "fgJnR9VeuiIB",
        "outputId": "a01d545a-c63c-4d6f-d42b-6d2ff27a6233"
      },
      "source": [
        "data_original_train.isna().sum()"
      ],
      "execution_count": 61,
      "outputs": [
        {
          "output_type": "execute_result",
          "data": {
            "text/plain": [
              "INDEX                                 0\n",
              "TARGET_FLAG                           0\n",
              "TARGET_AMT                            0\n",
              "KIDSDRIV                              0\n",
              "AGE                                   6\n",
              "HOMEKIDS                              0\n",
              "YOJ                                 454\n",
              "INCOME                              445\n",
              "HOME_VAL                            464\n",
              "TRAVTIME                              0\n",
              "BLUEBOOK                              0\n",
              "TIF                                   0\n",
              "OLDCLAIM                              0\n",
              "CLM_FREQ                              0\n",
              "MVR_PTS                               0\n",
              "CAR_AGE                             510\n",
              "PARENT1_No                            0\n",
              "PARENT1_Yes                           0\n",
              "MSTATUS_Yes                           0\n",
              "MSTATUS_z_No                          0\n",
              "SEX_M                                 0\n",
              "SEX_z_F                               0\n",
              "EDUCATION_<High School                0\n",
              "EDUCATION_Bachelors                   0\n",
              "EDUCATION_Masters                     0\n",
              "EDUCATION_PhD                         0\n",
              "EDUCATION_z_High School               0\n",
              "JOB_Clerical                          0\n",
              "JOB_Doctor                            0\n",
              "JOB_Home Maker                        0\n",
              "JOB_Lawyer                            0\n",
              "JOB_Manager                           0\n",
              "JOB_Professional                      0\n",
              "JOB_Student                           0\n",
              "JOB_z_Blue Collar                     0\n",
              "CAR_USE_Commercial                    0\n",
              "CAR_USE_Private                       0\n",
              "CAR_TYPE_Minivan                      0\n",
              "CAR_TYPE_Panel Truck                  0\n",
              "CAR_TYPE_Pickup                       0\n",
              "CAR_TYPE_Sports Car                   0\n",
              "CAR_TYPE_Van                          0\n",
              "CAR_TYPE_z_SUV                        0\n",
              "RED_CAR_no                            0\n",
              "RED_CAR_yes                           0\n",
              "REVOKED_No                            0\n",
              "REVOKED_Yes                           0\n",
              "URBANICITY_Highly Urban/ Urban        0\n",
              "URBANICITY_z_Highly Rural/ Rural      0\n",
              "dtype: int64"
            ]
          },
          "metadata": {},
          "execution_count": 61
        }
      ]
    },
    {
      "cell_type": "code",
      "metadata": {
        "colab": {
          "base_uri": "https://localhost:8080/"
        },
        "id": "zF5zHq7AuuDU",
        "outputId": "3ab1b09a-445f-43c4-9595-71325549b6e2"
      },
      "source": [
        "data_original_train.isna().sum().sum()"
      ],
      "execution_count": 62,
      "outputs": [
        {
          "output_type": "execute_result",
          "data": {
            "text/plain": [
              "1879"
            ]
          },
          "metadata": {},
          "execution_count": 62
        }
      ]
    },
    {
      "cell_type": "markdown",
      "metadata": {
        "id": "Avf-iK6Buk7U"
      },
      "source": [
        "The above output shows us that between 510 and 1879 rows contain missing values, which correspond to 6% to 23% of the datas. This being a significant proportion of the dataset we cannot afford to delete the concerned rows and thus have to find and ad-hoc solution for each field containing missing values."
      ]
    },
    {
      "cell_type": "markdown",
      "metadata": {
        "id": "kQftigKQv0Lb"
      },
      "source": [
        "- AGE/YOJ"
      ]
    },
    {
      "cell_type": "markdown",
      "metadata": {
        "id": "6xfkMuqfwxy4"
      },
      "source": [
        "From our understanding of the different features, interpolating this feature from the other features would not be sufficiently relevant. \n",
        "\n",
        "We choose then to fill nan values with the median of ages"
      ]
    },
    {
      "cell_type": "code",
      "metadata": {
        "id": "RenGSrvhwqoE"
      },
      "source": [
        "data_original_train['AGE'] = data_original_train['AGE'].replace(np.nan, data_original_train.AGE.median())\n",
        "data_original_train['YOJ'] = data_original_train['YOJ'].replace(np.nan, data_original_train.YOJ.median())"
      ],
      "execution_count": 71,
      "outputs": []
    },
    {
      "cell_type": "code",
      "metadata": {
        "id": "UwfcU6xq2nEj"
      },
      "source": [
        "data_original_test['AGE'] = data_original_test['AGE'].replace(np.nan, data_original_test.AGE.median())\n",
        "data_original_test['YOJ'] = data_original_test['YOJ'].replace(np.nan, data_original_test.YOJ.median())"
      ],
      "execution_count": 90,
      "outputs": []
    },
    {
      "cell_type": "markdown",
      "metadata": {
        "id": "OYvCAN5CvxZn"
      },
      "source": [
        "- INCOME/HOME_VAL/CAR_AGE"
      ]
    },
    {
      "cell_type": "markdown",
      "metadata": {
        "id": "6u36Purnzl44"
      },
      "source": [
        "From our understanding of the different features, interpolating theses features is relevant. \n",
        "\n",
        "We choose then to use the pandas interpolate method."
      ]
    },
    {
      "cell_type": "code",
      "metadata": {
        "id": "TUyFZenzzwWY"
      },
      "source": [
        "data_original_train = data_original_train.interpolate(method='linear')"
      ],
      "execution_count": 77,
      "outputs": []
    },
    {
      "cell_type": "code",
      "metadata": {
        "id": "7QdkHzVu2z_J"
      },
      "source": [
        "data_original_test = data_original_test.interpolate(method='linear')"
      ],
      "execution_count": 91,
      "outputs": []
    },
    {
      "cell_type": "markdown",
      "metadata": {
        "id": "TCwz0DJl3nNP"
      },
      "source": [
        "### TARGET_AMT"
      ]
    },
    {
      "cell_type": "markdown",
      "metadata": {
        "id": "AEaQAI3U3rp-"
      },
      "source": [
        "This field is entirely nan in the test set, as it has 'TARGET' in its name we can induce that it is entirely dependant on the other variable thus independant from TARGET_FLAG, we choose then to train our model on the dataset excluidng the TARGET_AMT field.\n",
        "\n",
        "(Not sure about this)"
      ]
    },
    {
      "cell_type": "markdown",
      "metadata": {
        "id": "1t-vDUX2OC6E"
      },
      "source": [
        "# Random Forest"
      ]
    },
    {
      "cell_type": "code",
      "metadata": {
        "id": "_QQHQwVOQDON"
      },
      "source": [
        "from sklearn.ensemble import RandomForestClassifier"
      ],
      "execution_count": 6,
      "outputs": []
    },
    {
      "cell_type": "code",
      "metadata": {
        "id": "8YA8CYe3RVaf"
      },
      "source": [
        "clf = RandomForestClassifier(max_depth=2, random_state=0)\n",
        "\n",
        "X = data_original_train.drop(columns = ['TARGET_FLAG', 'TARGET_AMT'])\n",
        "y = data_original_train['TARGET_FLAG'] \n",
        "\n",
        "clf.fit(X, y)\n",
        "\n",
        "X_test = data_original_test.drop(columns = ['TARGET_FLAG', 'TARGET_AMT'])\n",
        "\n",
        "Y_test = clf.predict(X_test)"
      ],
      "execution_count": 105,
      "outputs": []
    }
  ]
}