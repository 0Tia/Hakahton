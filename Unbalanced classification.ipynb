# deal with unbalanced dataset


import imblearn
from imblearn.metrics import classification_report_imbalanced
from imblearn.ensemble import EasyEnsembleClassifier as EEC
from imblearn.ensemble import RUSBoostClassifier as RUSBoost


